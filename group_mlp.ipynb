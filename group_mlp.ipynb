{
  "nbformat": 4,
  "nbformat_minor": 0,
  "metadata": {
    "colab": {
      "name": "group_mlp.ipynb",
      "provenance": []
    },
    "kernelspec": {
      "name": "python3",
      "display_name": "Python 3"
    },
    "language_info": {
      "name": "python"
    }
  },
  "cells": [
    {
      "cell_type": "code",
      "execution_count": null,
      "metadata": {
        "id": "jmyM3sRvN9mM"
      },
      "outputs": [],
      "source": [
        "import pandas as pd\n",
        "import tensorflow as tf\n",
        "from matplotlib import pyplot as plt\n",
        "import numpy as np"
      ]
    },
    {
      "cell_type": "code",
      "source": [
        "learning_rate=0.05\n",
        "epochs=100\n",
        "batch_size=10"
      ],
      "metadata": {
        "id": "l4l8R-l3YkZI"
      },
      "execution_count": null,
      "outputs": []
    },
    {
      "cell_type": "code",
      "source": [
        "def build_model(learning_rate):\n",
        "  model = tf.keras.models.Sequential()\n",
        "\n",
        "  model.add(tf.keras.layers.Dense(units=1, input_shape=(17,)))\n",
        "\n",
        "  model.compile(optimizer=tf.keras.optimizers.RMSprop(lr=learning_rate),\n",
        "                loss=\"mean_squared_error\",\n",
        "                metrics=[tf.keras.metrics.RootMeanSquaredError()])\n",
        "\n",
        "  return model           \n",
        "\n",
        "\n",
        "def train_model(model, feature, label, epochs, batch_size):\n",
        "\n",
        "  history = model.fit(x=feature, y=label, batch_size=batch_size, epochs=epochs)\n",
        "\n",
        "  trained_weight = model.get_weights()[0]\n",
        "  trained_bias = model.get_weights()[1]\n",
        "\n",
        "  epochs = history.epoch\n",
        "  \n",
        "  hist = pd.DataFrame(history.history)\n",
        "\n",
        "  rmse = hist[\"root_mean_squared_error\"]\n",
        "\n",
        "  return trained_weight, trained_bias, epochs, rmse\n",
        "  \n",
        "  \n",
        "def plot_the_model(trained_weight, trained_bias, feature, label):\n",
        "\n",
        "  plt.xlabel(\"feature\")\n",
        "  plt.ylabel(\"label\")\n",
        "\n",
        "  plt.scatter(feature, label)\n",
        "\n",
        "  x0 = 0\n",
        "  y0 = trained_bias\n",
        "  x1 = feature[-1]\n",
        "  y1 = trained_bias + (trained_weight * x1)\n",
        "  plt.plot([x0, x1], [y0, y1], c='r')\n",
        "\n",
        "  plt.show()\n",
        "\n",
        "def plot_the_loss_curve(epochs, rmse):\n",
        "\n",
        "  plt.figure()\n",
        "  plt.xlabel(\"Epoch\")\n",
        "  plt.ylabel(\"Root Mean Squared Error\")\n",
        "\n",
        "  plt.plot(epochs, rmse, label=\"Loss\")\n",
        "  plt.legend()\n",
        "  plt.ylim([rmse.min()*0.97, rmse.max()])\n",
        "  plt.show()\n",
        "    \n",
        "\n",
        "def read_in_feature(f):\n",
        "  feature = []\n",
        "\n",
        "  with open(f, 'r') as file:\n",
        "    next(file)\n",
        "    for line in file:\n",
        "      hold = line.rstrip().split(',')\n",
        "      feature.append(hold[:-2])\n",
        "\n",
        "  return feature\n",
        "\n",
        "\n",
        "def read_in_label(f):\n",
        "  label = []\n",
        "\n",
        "  with open(f, 'r') as file:\n",
        "    next(file)\n",
        "    for line in file:\n",
        "      hold = line.rstrip().split(',')\n",
        "      label.append([hold[-2]])\n",
        "\n",
        "  return label"
      ],
      "metadata": {
        "id": "uC1OS8YJYZ6H"
      },
      "execution_count": null,
      "outputs": []
    },
    {
      "cell_type": "code",
      "source": [
        "f = \"healthcare-dataset-stroke-data.csv\"\n",
        "feature = read_in_feature(f)\n",
        "label = read_in_label(f)"
      ],
      "metadata": {
        "id": "C_DadJfcYhbt"
      },
      "execution_count": null,
      "outputs": []
    },
    {
      "cell_type": "code",
      "source": [
        "model = build_model(learning_rate)\n",
        "trained_weight, trained_bias, epochs, rmse = train_model(model, feature, label, epochs, batch_size)\n",
        "plot_the_model(trained_weight, trained_bias, feature, label)\n",
        "plot_the_loss_curve(epochs, rmse)"
      ],
      "metadata": {
        "id": "g78SZPUqYiRa"
      },
      "execution_count": null,
      "outputs": []
    }
  ]
}